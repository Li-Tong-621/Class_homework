{
 "cells": [
  {
   "cell_type": "code",
   "execution_count": 1,
   "metadata": {},
   "outputs": [],
   "source": [
    "#实验3.1 红酒数据集kmeans"
   ]
  },
  {
   "cell_type": "code",
   "execution_count": 2,
   "metadata": {},
   "outputs": [],
   "source": [
    "from sklearn.preprocessing import StandardScaler\n",
    "from sklearn.metrics import accuracy_score\n",
    "from sklearn.datasets import load_wine"
   ]
  },
  {
   "cell_type": "code",
   "execution_count": 3,
   "metadata": {},
   "outputs": [],
   "source": [
    "#1.加载数据\n",
    "wine=load_wine()\n",
    "scaler =StandardScaler()\n",
    "x=scaler.fit_transform(wine.data)\n",
    "y=wine.target"
   ]
  },
  {
   "cell_type": "code",
   "execution_count": 4,
   "metadata": {},
   "outputs": [],
   "source": [
    "import mindspore.numpy as np\n",
    "#2.自定义k-means距离衡量标准\n",
    "def euclidean_distance(one_sample,x):\n",
    "    one_sample=one_sample.reshape(1,-1)\n",
    "    distances=np.power(np.tile(one_sample,(x.shape[0],1))-x,2).sum(axis=1)\n",
    "    return distances"
   ]
  },
  {
   "cell_type": "code",
   "execution_count": 5,
   "metadata": {},
   "outputs": [],
   "source": [
    "#2.自定义k-means类\n",
    "import numpy as np"
   ]
  },
  {
   "cell_type": "code",
   "execution_count": 6,
   "metadata": {},
   "outputs": [],
   "source": [
    "class kmeans():\n",
    "    \"\"\"\n",
    "    Kmeans聚类\n",
    "\n",
    "    \"\"\"\n",
    "    def __init__(self,k=2,max_iterations=500, varepsilon=0.0001):\n",
    "        \"\"\"\n",
    "        k:int 聚类数目\n",
    "        max_iterations:int  最大迭代数目\n",
    "        varepsilon:float 判断是否收敛，如果上一次的所有k个聚类中心与本次所有k个聚类中心都小于这个值，那么说明已经收敛\n",
    "        \"\"\"\n",
    "        self.k=k\n",
    "        self.max_iterations=max_iterations\n",
    "        self.varepsilon=varepsilon\n",
    "        np.random.seed(1)\n",
    "    def init_random_centroids(self,x):\n",
    "        #从所有样本中随机选取样本作为初始的聚类中心\n",
    "        \"\"\"\n",
    "        输入x 即所需聚类的样本\n",
    "        随机进行初始化，返回初始化聚类中心\n",
    "        \"\"\"\n",
    "        n_samples,n_features=np.shape(x)\n",
    "        centroids=np.zeros((self.k,n_features))\n",
    "        for i in range(self.k):\n",
    "            centroid=x[np.random.choice(range(n_samples))]\n",
    "            centroids[i]=centroid\n",
    "        return centroids\n",
    "    def _closet_centroid(self,sample,centoids):\n",
    "        #返回距离该样本最近的中心索引\n",
    "        \"\"\"\n",
    "        输入样本 sample,centoids中心坐标\n",
    "        返回最近的中心的索引\n",
    "        \n",
    "        \"\"\"\n",
    "        distances=euclidean_distance(sample,centoids)\n",
    "        closest_i=np.argmin(distances)\n",
    "\n",
    "        return closest_i\n",
    "    def create_clusters(self,centroids,x):\n",
    "        \"\"\"\n",
    "        输入 x 样本\n",
    "        centroids 中心坐标\n",
    "        输出 聚类结果\n",
    "        \"\"\"\n",
    "        clusters=[ [] for _ in range(self.k)]\n",
    "        for sample_i,sample in enumerate(x):\n",
    "            centroid_i=self._closet_centroid(sample,centroids)\n",
    "            clusters[centroid_i].append(sample_i)\n",
    "        return clusters\n",
    "    def update_centroids(self,clusters,x):\n",
    "        \"\"\"\n",
    "        更新中心点\n",
    "        输入 clusters 聚类结果\n",
    "        x 样本\n",
    "        返回 新的中心点坐标\n",
    "        \"\"\"\n",
    "        n_features=np.shape(x)[1]\n",
    "        centroids=np.zeros((self.k,n_features))\n",
    "        for i ,cluster in enumerate(clusters):\n",
    "            centroid=np.mean(x[cluster],axis=0)\n",
    "            centroids[i]=centroid\n",
    "        return centroids\n",
    "    def get_cluster_labels(self,clusters,x):\n",
    "        \"\"\"\n",
    "        输入 x 样本\n",
    "        centroids 中心坐标\n",
    "        输出 聚类结果标签\n",
    "        \"\"\"\n",
    "        y_pred=np.zeros(np.shape(x)[0])\n",
    "        for cluster_i,cluster in enumerate(clusters):\n",
    "            for sample_i in cluster:\n",
    "                y_pred[sample_i]=cluster_i\n",
    "        return y_pred\n",
    "\n",
    "    def predict(self,x):\n",
    "        \"\"\"\n",
    "        预测x对应的label\n",
    "        \"\"\"\n",
    "        centroids=self.init_random_centroids(x)\n",
    "\n",
    "        for _ in range(self.max_iterations):\n",
    "            clusters=self.create_clusters(centroids,x)\n",
    "            former_centroids=centroids\n",
    "            centroids=self.update_centroids(clusters,x)\n",
    "            diff=centroids-former_centroids\n",
    "            if diff.any() <self.varepsilon:\n",
    "                break\n",
    "        return self.get_cluster_labels(clusters,x)\n",
    "\n"
   ]
  },
  {
   "cell_type": "code",
   "execution_count": 7,
   "metadata": {},
   "outputs": [],
   "source": [
    "km=kmeans(k=3)\n",
    "y_pred=km.predict(x)\n",
    "y[y==0]=-1\n",
    "y[y==1]=-2\n",
    "y[y==2]=-3"
   ]
  },
  {
   "cell_type": "code",
   "execution_count": 8,
   "metadata": {},
   "outputs": [
    {
     "data": {
      "text/plain": [
       "array([-1, -1, -1, -1, -1, -1, -1, -1, -1, -1, -1, -1, -1, -1, -1, -1, -1,\n",
       "       -1, -1, -1, -1, -1, -1, -1, -1, -1, -1, -1, -1, -1, -1, -1, -1, -1,\n",
       "       -1, -1, -1, -1, -1, -1, -1, -1, -1, -1, -1, -1, -1, -1, -1, -1, -1,\n",
       "       -1, -1, -1, -1, -1, -1, -1, -1, -2, -2, -2, -2, -2, -2, -2, -2, -2,\n",
       "       -2, -2, -2, -2, -2, -2, -2, -2, -2, -2, -2, -2, -2, -2, -2, -2, -2,\n",
       "       -2, -2, -2, -2, -2, -2, -2, -2, -2, -2, -2, -2, -2, -2, -2, -2, -2,\n",
       "       -2, -2, -2, -2, -2, -2, -2, -2, -2, -2, -2, -2, -2, -2, -2, -2, -2,\n",
       "       -2, -2, -2, -2, -2, -2, -2, -2, -2, -2, -2, -3, -3, -3, -3, -3, -3,\n",
       "       -3, -3, -3, -3, -3, -3, -3, -3, -3, -3, -3, -3, -3, -3, -3, -3, -3,\n",
       "       -3, -3, -3, -3, -3, -3, -3, -3, -3, -3, -3, -3, -3, -3, -3, -3, -3,\n",
       "       -3, -3, -3, -3, -3, -3, -3, -3])"
      ]
     },
     "execution_count": 8,
     "metadata": {},
     "output_type": "execute_result"
    }
   ],
   "source": [
    "y"
   ]
  },
  {
   "cell_type": "code",
   "execution_count": 9,
   "metadata": {},
   "outputs": [],
   "source": [
    "y_pred[y_pred==0]=-1\n",
    "y_pred[y_pred==2]=-2\n",
    "y_pred[y_pred==1]=-3"
   ]
  },
  {
   "cell_type": "code",
   "execution_count": 10,
   "metadata": {},
   "outputs": [
    {
     "data": {
      "text/plain": [
       "array([-1., -1., -1., -1., -1., -1., -1., -1., -1., -1., -1., -1., -1.,\n",
       "       -1., -1., -1., -1., -1., -1., -1., -1., -1., -1., -1., -1., -1.,\n",
       "       -1., -1., -1., -1., -1., -1., -1., -1., -1., -1., -1., -1., -1.,\n",
       "       -1., -1., -1., -1., -1., -1., -1., -1., -1., -1., -1., -1., -1.,\n",
       "       -1., -1., -1., -1., -1., -1., -1., -2., -2., -3., -2., -2., -2.,\n",
       "       -2., -2., -2., -2., -1., -2., -2., -2., -1., -2., -2., -2., -2.,\n",
       "       -1., -2., -2., -2., -2., -3., -2., -2., -2., -2., -2., -2., -2.,\n",
       "       -2., -2., -2., -2., -1., -2., -2., -2., -2., -2., -2., -2., -2.,\n",
       "       -2., -2., -2., -2., -2., -2., -2., -2., -2., -2., -2., -2., -2.,\n",
       "       -2., -3., -2., -2., -1., -2., -2., -2., -2., -2., -2., -2., -2.,\n",
       "       -3., -3., -3., -3., -3., -3., -3., -3., -3., -3., -3., -3., -3.,\n",
       "       -3., -3., -3., -3., -3., -3., -3., -3., -3., -3., -3., -3., -3.,\n",
       "       -3., -3., -3., -3., -3., -3., -3., -3., -3., -3., -3., -3., -3.,\n",
       "       -3., -3., -3., -3., -3., -3., -3., -3., -3.])"
      ]
     },
     "execution_count": 10,
     "metadata": {},
     "output_type": "execute_result"
    }
   ],
   "source": [
    "y_pred"
   ]
  },
  {
   "cell_type": "code",
   "execution_count": 11,
   "metadata": {},
   "outputs": [
    {
     "name": "stdout",
     "output_type": "stream",
     "text": [
      "吻合度0.96\n"
     ]
    }
   ],
   "source": [
    "#3.对数据集聚类 计算吻合度\n",
    "acc=accuracy_score(y,y_pred)\n",
    "print('吻合度{:.2f}'.format(acc))"
   ]
  },
  {
   "cell_type": "code",
   "execution_count": 12,
   "metadata": {},
   "outputs": [],
   "source": [
    "#4.调用sklearn\n",
    "from sklearn.cluster import KMeans"
   ]
  },
  {
   "cell_type": "code",
   "execution_count": 13,
   "metadata": {},
   "outputs": [],
   "source": [
    "def kmeans_cluster(data):\n",
    "    km=KMeans(n_clusters=3,random_state=888)\n",
    "    result=km.fit_predict(data)\n",
    "\n",
    "    return result"
   ]
  },
  {
   "cell_type": "code",
   "execution_count": 14,
   "metadata": {},
   "outputs": [],
   "source": [
    "#5.聚类\n",
    "y_pred=kmeans_cluster(x)"
   ]
  },
  {
   "cell_type": "code",
   "execution_count": 15,
   "metadata": {},
   "outputs": [],
   "source": [
    "y[y==0]=-1\n",
    "y[y==1]=-2\n",
    "y[y==2]=-3"
   ]
  },
  {
   "cell_type": "code",
   "execution_count": 16,
   "metadata": {},
   "outputs": [
    {
     "data": {
      "text/plain": [
       "array([-1, -1, -1, -1, -1, -1, -1, -1, -1, -1, -1, -1, -1, -1, -1, -1, -1,\n",
       "       -1, -1, -1, -1, -1, -1, -1, -1, -1, -1, -1, -1, -1, -1, -1, -1, -1,\n",
       "       -1, -1, -1, -1, -1, -1, -1, -1, -1, -1, -1, -1, -1, -1, -1, -1, -1,\n",
       "       -1, -1, -1, -1, -1, -1, -1, -1, -2, -2, -2, -2, -2, -2, -2, -2, -2,\n",
       "       -2, -2, -2, -2, -2, -2, -2, -2, -2, -2, -2, -2, -2, -2, -2, -2, -2,\n",
       "       -2, -2, -2, -2, -2, -2, -2, -2, -2, -2, -2, -2, -2, -2, -2, -2, -2,\n",
       "       -2, -2, -2, -2, -2, -2, -2, -2, -2, -2, -2, -2, -2, -2, -2, -2, -2,\n",
       "       -2, -2, -2, -2, -2, -2, -2, -2, -2, -2, -2, -3, -3, -3, -3, -3, -3,\n",
       "       -3, -3, -3, -3, -3, -3, -3, -3, -3, -3, -3, -3, -3, -3, -3, -3, -3,\n",
       "       -3, -3, -3, -3, -3, -3, -3, -3, -3, -3, -3, -3, -3, -3, -3, -3, -3,\n",
       "       -3, -3, -3, -3, -3, -3, -3, -3])"
      ]
     },
     "execution_count": 16,
     "metadata": {},
     "output_type": "execute_result"
    }
   ],
   "source": [
    "y"
   ]
  },
  {
   "cell_type": "code",
   "execution_count": 17,
   "metadata": {},
   "outputs": [],
   "source": [
    "y_pred[y_pred==2]=-3\n",
    "y_pred[y_pred==1]=-2\n",
    "y_pred[y_pred==0]=-1"
   ]
  },
  {
   "cell_type": "code",
   "execution_count": 18,
   "metadata": {},
   "outputs": [
    {
     "data": {
      "text/plain": [
       "array([-1, -1, -1, -1, -1, -1, -1, -1, -1, -1, -1, -1, -1, -1, -1, -1, -1,\n",
       "       -1, -1, -1, -1, -1, -1, -1, -1, -1, -1, -1, -1, -1, -1, -1, -1, -1,\n",
       "       -1, -1, -1, -1, -1, -1, -1, -1, -1, -1, -1, -1, -1, -1, -1, -1, -1,\n",
       "       -1, -1, -1, -1, -1, -1, -1, -1, -2, -2, -3, -2, -2, -2, -2, -2, -2,\n",
       "       -2, -2, -2, -2, -2, -1, -2, -2, -2, -2, -2, -2, -2, -2, -2, -3, -2,\n",
       "       -2, -2, -2, -2, -2, -2, -2, -2, -2, -2, -1, -2, -2, -2, -2, -2, -2,\n",
       "       -2, -2, -2, -2, -2, -2, -2, -2, -2, -2, -2, -2, -2, -2, -2, -2, -3,\n",
       "       -2, -2, -1, -2, -2, -2, -2, -2, -2, -2, -2, -3, -3, -3, -3, -3, -3,\n",
       "       -3, -3, -3, -3, -3, -3, -3, -3, -3, -3, -3, -3, -3, -3, -3, -3, -3,\n",
       "       -3, -3, -3, -3, -3, -3, -3, -3, -3, -3, -3, -3, -3, -3, -3, -3, -3,\n",
       "       -3, -3, -3, -3, -3, -3, -3, -3])"
      ]
     },
     "execution_count": 18,
     "metadata": {},
     "output_type": "execute_result"
    }
   ],
   "source": [
    "y_pred"
   ]
  },
  {
   "cell_type": "code",
   "execution_count": 19,
   "metadata": {},
   "outputs": [
    {
     "name": "stdout",
     "output_type": "stream",
     "text": [
      "吻合度0.97\n"
     ]
    }
   ],
   "source": [
    "acc=accuracy_score(y,y_pred)\n",
    "print('吻合度{:.2f}'.format(acc))"
   ]
  },
  {
   "cell_type": "code",
   "execution_count": null,
   "metadata": {},
   "outputs": [],
   "source": []
  }
 ],
 "metadata": {
  "kernelspec": {
   "display_name": "mindspore",
   "language": "python",
   "name": "mindspore"
  },
  "language_info": {
   "codemirror_mode": {
    "name": "ipython",
    "version": 3
   },
   "file_extension": ".py",
   "mimetype": "text/x-python",
   "name": "python",
   "nbconvert_exporter": "python",
   "pygments_lexer": "ipython3",
   "version": "3.7.5"
  }
 },
 "nbformat": 4,
 "nbformat_minor": 4
}
