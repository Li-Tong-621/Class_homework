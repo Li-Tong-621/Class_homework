{
 "cells": [
  {
   "cell_type": "code",
   "execution_count": 1,
   "metadata": {},
   "outputs": [],
   "source": [
    "#SVM"
   ]
  },
  {
   "cell_type": "code",
   "execution_count": 2,
   "metadata": {},
   "outputs": [],
   "source": [
    "import numpy as np"
   ]
  },
  {
   "cell_type": "code",
   "execution_count": 3,
   "metadata": {},
   "outputs": [],
   "source": [
    "class SVM:\n",
    "    def init_args(self, max_iter, features, labels):\n",
    "        self.max_iter = max_iter\n",
    "        self.m, self.n = features.shape\n",
    "        self.X = features\n",
    "        self.Y = labels\n",
    "        self.b = 0.0\n",
    "        self.alpha = np.ones(self.m)\n",
    "        self.E = [self.calc_E(i) for i in range(self.m)]\n",
    "        self.C = 1.0\n",
    "\n",
    "    # 核函数，这里选用线性核\n",
    "    def kernel(self, x1, x2):\n",
    "        sum = 0\n",
    "        for i in range(self.n):\n",
    "            sum += x1[i]*x2[i]\n",
    "        return sum\n",
    "\n",
    "    # 计算预测值\n",
    "    def calc_g(self, i):\n",
    "        g = self.b\n",
    "        for j in range(self.m):\n",
    "            g += self.alpha[j]*self.Y[j]*self.kernel(self.X[i], self.X[j])\n",
    "        return g\n",
    "\n",
    "    # 计算预测值与真实值的差值\n",
    "    def calc_E(self, i):\n",
    "        return self.calc_g(i) - self.Y[i]\n",
    "\n",
    "    # 判断是否满足KKT条件\n",
    "    def judge_KKT(self, i):\n",
    "        if self.alpha[i]==0 and self.Y[i]*self.calc_g(i)>=1:\n",
    "            return True\n",
    "        elif 0<self.alpha[i]<self.C and self.Y[i]*self.calc_g(i)==1:\n",
    "            return True\n",
    "        return False\n",
    "\n",
    "    def get_alpha(self):\n",
    "        # 外层循环，找第一个变量，遍历样本点，找到第一个不满足KKT条件的\n",
    "        for i in range(self.m):\n",
    "            if self.judge_KKT(i) == False:\n",
    "                # 内层循环，找第二个变量\n",
    "                E1 = self.E[i]\n",
    "                if E1 >= 0:\n",
    "                    j = min(range(self.m), key=lambda index : self.E[index])\n",
    "                else:\n",
    "                    j = max(range(self.m), key=lambda index : self.E[index])\n",
    "                return i, j\n",
    "\n",
    "    def train(self, max_iter, features, labels):\n",
    "        # 迭代训练\n",
    "        self.init_args(max_iter, features, labels)\n",
    "        for i in range(self.max_iter):\n",
    "            # 选择 alpha1和alpha1\n",
    "            i1, i2 = self.get_alpha()\n",
    "\n",
    "            # 边界\n",
    "            if self.Y[i1] == self.Y[i2]:\n",
    "                L = max(0, self.alpha[i2]+self.alpha[i1]-self.C)\n",
    "                H = min(self.C, self.alpha[i2]+self.alpha[i1])\n",
    "            else:\n",
    "                L = max(0, self.alpha[i2]-self.alpha[i1])\n",
    "                H = min(self.C, self.alpha[i2]+self.alpha[i1]+self.C)\n",
    "            \n",
    "            eta = self.kernel(self.X[i1], self.X[i1]) + self.kernel(self.X[i2], self.X[i2]) - 2*self.kernel(self.X[i1], self.X[i2])\n",
    "            alpha2_new_unc = self.alpha[i2] + self.Y[i2] * (self.E[i1] - self.E[i2]) / eta\n",
    "            \n",
    "            if alpha2_new_unc > H:\n",
    "                alpha2_new = H\n",
    "            elif L <= alpha2_new_unc <= H:\n",
    "                alpha2_new = alpha2_new_unc\n",
    "            elif alpha2_new_unc < L:\n",
    "                alpha2_new = L\n",
    "            \n",
    "            alpha1_new = self.alpha[i1] + self.Y[i1] * self.Y[i2] * (self.alpha[i2] - alpha2_new)\n",
    "            \n",
    "            b1_new = -self.E[i1] - self.Y[i1] * self.kernel(self.X[i1], self.X[i1]) * (alpha1_new-self.alpha[i1]) - self.Y[i2] * self.kernel(self.X[i2], self.X[i1]) * (alpha2_new-self.alpha[i2])+ self.b \n",
    "            b2_new = -self.E[i2] - self.Y[i1] * self.kernel(self.X[i1], self.X[i2]) * (alpha1_new-self.alpha[i1]) - self.Y[i2] * self.kernel(self.X[i2], self.X[i2]) * (alpha2_new-self.alpha[i2])+ self.b \n",
    "\n",
    "            if 0 < alpha1_new < self.C:\n",
    "                b_new = b1_new\n",
    "            elif 0 < alpha2_new < self.C:\n",
    "                b_new = b2_new\n",
    "            else:\n",
    "                b_new = (b1_new + b2_new) / 2\n",
    "                \n",
    "            # 更新参数\n",
    "            self.alpha[i1] = alpha1_new\n",
    "            self.alpha[i2] = alpha2_new\n",
    "            self.b = b_new\n",
    "            \n",
    "            self.E[i1] = self.calc_E(i1)\n",
    "            self.E[i2] = self.calc_E(i2)\n",
    "        print(\"Train: {0} iterations have been done.\".format(self.max_iter))\n"
   ]
  },
  {
   "cell_type": "code",
   "execution_count": 4,
   "metadata": {},
   "outputs": [],
   "source": [
    "#1.数据生成\n",
    "import matplotlib.pyplot as plt\n",
    "x=[[1,2,3,4],[1,2,3,4]]\n",
    "y=[2,4,6,8]"
   ]
  },
  {
   "cell_type": "code",
   "execution_count": 5,
   "metadata": {},
   "outputs": [
    {
     "data": {
      "image/png": "[encoded data removed]",
      "text/plain": [
       "<Figure size 432x288 with 1 Axes>"
      ]
     },
     "metadata": {
      "needs_background": "light"
     },
     "output_type": "display_data"
    }
   ],
   "source": [
    "#2.可视化\n",
    "plt.scatter(x[:][0],x[:][1],c=y)\n",
    "plt.show()"
   ]
  },
  {
   "cell_type": "code",
   "execution_count": 6,
   "metadata": {},
   "outputs": [
    {
     "name": "stdout",
     "output_type": "stream",
     "text": [
      "Train: 1000 iterations have been done.\n"
     ]
    },
    {
     "name": "stderr",
     "output_type": "stream",
     "text": [
      "E:\\Anaconda\\envs\\mindspore\\lib\\site-packages\\ipykernel_launcher.py:66: RuntimeWarning: divide by zero encountered in double_scalars\n"
     ]
    },
    {
     "data": {
      "text/plain": [
       "3.0"
      ]
     },
     "execution_count": 6,
     "metadata": {},
     "output_type": "execute_result"
    }
   ],
   "source": [
    "svm=SVM()\n",
    "x=np.array(x)\n",
    "y=np.array(y)\n",
    "svm.train(1000,x,y)\n",
    "svm.calc_g(1)"
   ]
  },
  {
   "cell_type": "code",
   "execution_count": null,
   "metadata": {},
   "outputs": [],
   "source": []
  }
 ],
 "metadata": {
  "kernelspec": {
   "display_name": "mindspore",
   "language": "python",
   "name": "mindspore"
  },
  "language_info": {
   "codemirror_mode": {
    "name": "ipython",
    "version": 3
   },
   "file_extension": ".py",
   "mimetype": "text/x-python",
   "name": "python",
   "nbconvert_exporter": "python",
   "pygments_lexer": "ipython3",
   "version": "3.7.5"
  }
 },
 "nbformat": 4,
 "nbformat_minor": 4
}
