{
 "cells": [
  {
   "cell_type": "code",
   "execution_count": 1,
   "metadata": {},
   "outputs": [],
   "source": [
    "#实验1.2 最小二乘法求解一元线性回归方程\n",
    "#先写了class版本\n",
    "#后面是函数版本"
   ]
  },
  {
   "cell_type": "code",
   "execution_count": 2,
   "metadata": {},
   "outputs": [],
   "source": [
    "#class 版本————————————————————————"
   ]
  },
  {
   "cell_type": "code",
   "execution_count": 3,
   "metadata": {},
   "outputs": [],
   "source": [
    "import mindspore.numpy as np\n",
    "x=np.array([55,71,68,87,101,87,75,78,93,73]).asnumpy()\n",
    "y=np.array([91,101,87,109,129,98,95,101,104,93]).asnumpy()"
   ]
  },
  {
   "cell_type": "code",
   "execution_count": 4,
   "metadata": {},
   "outputs": [],
   "source": [
    "class ols():\n",
    "    def __init__(self):\n",
    "        \"\"\"\n",
    "        w1 -- 线性方程系数\n",
    "        w2 -- 线性方程的截距\n",
    "        \"\"\"\n",
    "        self.w1=None\n",
    "        self.w2=None\n",
    "    def ols_algebra(self,x,y):\n",
    "        \"\"\"\n",
    "        最小二乘自定义函数\n",
    "        input:\n",
    "        x--自变量\n",
    "        y--因变量\n",
    "        return：\n",
    "        w1 -- 线性方程系数\n",
    "        w2 -- 线性方程的截距\n",
    "        \"\"\"\n",
    "        n=len(x)\n",
    "        self.w1=(n*sum(x*y)-sum(x)*sum(y))/(n*sum(x*x)-sum(x)*sum(x))\n",
    "        self.w2=(sum(x*x)*sum(y)- sum(x)*sum(x*y))/(n*sum(x*x)-sum(x)*sum(x))\n",
    "        return self.w1, self.w2\n",
    "    def ols_gradient_descent(self,x, y,lr,num_liter):\n",
    "        \"\"\"\n",
    "        使用最小二乘梯度下降自定义函数求解线性回归方程参数\n",
    "        input\n",
    "        x--自变量\n",
    "        y--因变量\n",
    "        return：\n",
    "        w1 -- 线性方程系数\n",
    "        w2 -- 线性方程的截距\n",
    "        \"\"\"\n",
    "        self.w1=0\n",
    "        self.w2=0\n",
    "        for i in range(num_liter):\n",
    "            y_hat=(self.w1*x)+self.w2\n",
    "            self.w1_gradient=-2*sum(x*(y-y_hat))\n",
    "            self.w2_gradient=-2*sum(y-y_hat)\n",
    "            self.w1-=lr*self.w1_gradient\n",
    "            self.w2-=lr*self.w2_gradient\n",
    "        return self.w1, self.w2\n",
    "    "
   ]
  },
  {
   "cell_type": "code",
   "execution_count": 5,
   "metadata": {},
   "outputs": [],
   "source": [
    "OLS=ols()"
   ]
  },
  {
   "cell_type": "code",
   "execution_count": 6,
   "metadata": {},
   "outputs": [
    {
     "name": "stdout",
     "output_type": "stream",
     "text": [
      "0.7175629008386778 44.25604341391219\n"
     ]
    }
   ],
   "source": [
    "#使用最小二乘法自定义函数求解线性回归方程参数\n",
    "w1_,w0_=OLS.ols_algebra(x,y)\n",
    "print(w1_,w0_)"
   ]
  },
  {
   "cell_type": "code",
   "execution_count": 7,
   "metadata": {},
   "outputs": [
    {
     "name": "stdout",
     "output_type": "stream",
     "text": [
      "1.2633124475159723 0.12807483308616532\n"
     ]
    }
   ],
   "source": [
    "#使用最小二乘梯度下降自定义函数求解线性回归方程参数\n",
    "w1,w0=OLS.ols_gradient_descent(x,y,lr=0.00001,num_liter=500)\n",
    "print(w1,w0)"
   ]
  },
  {
   "cell_type": "code",
   "execution_count": 8,
   "metadata": {},
   "outputs": [
    {
     "data": {
      "text/plain": [
       "Text(0.5, 1.0, 'Gradient descent')"
      ]
     },
     "execution_count": 8,
     "metadata": {},
     "output_type": "execute_result"
    },
    {
     "data": {
      "image/png": "[encoded data removed]",
      "text/plain": [
       "<Figure size 1080x360 with 2 Axes>"
      ]
     },
     "metadata": {
      "needs_background": "light"
     },
     "output_type": "display_data"
    }
   ],
   "source": [
    "#绘制图像\n",
    "from matplotlib import  pyplot as  plt\n",
    "import numpy as np\n",
    "fig,axes=plt.subplots(1,2,figsize=(15,5))\n",
    "\n",
    "axes[0].scatter(x,y)\n",
    "axes[0].plot(np.array([50,110]),np.array([50,110])*w1_+w0_,'r')\n",
    "axes[0].set_title('OLS')\n",
    "\n",
    "axes[1].scatter(x,y)\n",
    "axes[1].plot(np.array([50,110]),np.array([50,110])*w1+w0,'r')\n",
    "axes[1].set_title('Gradient descent')"
   ]
  },
  {
   "cell_type": "code",
   "execution_count": null,
   "metadata": {},
   "outputs": [],
   "source": []
  },
  {
   "cell_type": "code",
   "execution_count": null,
   "metadata": {},
   "outputs": [],
   "source": []
  },
  {
   "cell_type": "code",
   "execution_count": 9,
   "metadata": {},
   "outputs": [],
   "source": [
    "#函数版本————————————————————————"
   ]
  },
  {
   "cell_type": "code",
   "execution_count": 10,
   "metadata": {},
   "outputs": [],
   "source": [
    "#1.定义x,y\n",
    "import numpy as np\n",
    "x=np.array([55,71,68,87,101,87,75,78,93,73])\n",
    "y=np.array([91,101,87,109,129,98,95,101,104,93])"
   ]
  },
  {
   "cell_type": "code",
   "execution_count": 11,
   "metadata": {},
   "outputs": [],
   "source": [
    "#单纯的最小二乘\n",
    "#2.1最小二乘自定义函数\n",
    "def ols_algebra(x,y):\n",
    "    \"\"\"\n",
    "    x--自变量\n",
    "    y--因变量\n",
    "    返回值：\n",
    "    w1 -- 线性方程系数\n",
    "    w2 -- 线性方程的截距\n",
    "    \"\"\"\n",
    "    n=len(x)\n",
    "    w1=(n*sum(x*y)-sum(x)*sum(y))/(n*sum(x*x)-sum(x)*sum(x))\n",
    "    w0=(sum(x*x)*sum(y)- sum(x)*sum(x*y))/(n*sum(x*x)-sum(x)*sum(x))\n",
    "    \n",
    "    return w1,w0"
   ]
  },
  {
   "cell_type": "code",
   "execution_count": 12,
   "metadata": {},
   "outputs": [
    {
     "name": "stdout",
     "output_type": "stream",
     "text": [
      "0.7175629008386778\n",
      "44.25604341391219\n"
     ]
    }
   ],
   "source": [
    "#3.1使用最小二乘法自定义函数求解线性回归方程参数\n",
    "#求解w1，w0\n",
    "w1,w0=ols_algebra(x,y)\n",
    "print(w1)\n",
    "print(w0)"
   ]
  },
  {
   "cell_type": "code",
   "execution_count": 13,
   "metadata": {},
   "outputs": [],
   "source": [
    "#最小二乘梯度下降\n",
    "#2.2最小二乘梯度下降自定义函数\n",
    "def ols_gradient_descent(x, y,lr,num_liter):\n",
    "    \"\"\"\n",
    "    x--自变量\n",
    "    y--因变量\n",
    "    返回值：\n",
    "    w1 -- 线性方程系数\n",
    "    w2 -- 线性方程的截距\n",
    "    \"\"\"\n",
    "    w1=0\n",
    "    w0=0\n",
    "    for i in range(num_liter):\n",
    "        y_hat=(w1*x)+w0\n",
    "        w1_gradient=-2*sum(x*(y-y_hat))\n",
    "        w0_gradient=-2*sum(y-y_hat)\n",
    "        w1-=lr*w1_gradient\n",
    "        w0-=lr*w0_gradient\n",
    "    return w1, w0\n"
   ]
  },
  {
   "cell_type": "code",
   "execution_count": 14,
   "metadata": {},
   "outputs": [
    {
     "name": "stdout",
     "output_type": "stream",
     "text": [
      "1.2633124475159723 0.12807483308616532\n"
     ]
    }
   ],
   "source": [
    "#3.2使用最小二乘梯度下降自定义函数求解线性回归方程参数\n",
    "w1_,w0_=ols_gradient_descent(x,y,lr=0.00001,num_liter=500)\n",
    "print(w1_,w0_)"
   ]
  },
  {
   "cell_type": "code",
   "execution_count": 15,
   "metadata": {},
   "outputs": [
    {
     "data": {
      "text/plain": [
       "Text(0.5, 1.0, 'Gradient descent')"
      ]
     },
     "execution_count": 15,
     "metadata": {},
     "output_type": "execute_result"
    },
    {
     "data": {
      "image/png": "[encoded data removed]",
      "text/plain": [
       "<Figure size 1080x360 with 2 Axes>"
      ]
     },
     "metadata": {
      "needs_background": "light"
     },
     "output_type": "display_data"
    }
   ],
   "source": [
    "#4.绘制图像\n",
    "from matplotlib import  pyplot as  plt\n",
    "fig,axes=plt.subplots(1,2,figsize=(15,5))\n",
    "\n",
    "axes[0].scatter(x,y)\n",
    "axes[0].plot(np.array([50,110]),np.array([50,110])*w1+w0,'r')\n",
    "axes[0].set_title('OLS')\n",
    "\n",
    "axes[1].scatter(x,y)\n",
    "axes[1].plot(np.array([50,110]),np.array([50,110])*w1_+w0_,'r')\n",
    "axes[1].set_title('Gradient descent')"
   ]
  },
  {
   "cell_type": "code",
   "execution_count": 16,
   "metadata": {},
   "outputs": [],
   "source": [
    "#——————————————————————————————结束"
   ]
  }
 ],
 "metadata": {
  "kernelspec": {
   "display_name": "mindspore",
   "language": "python",
   "name": "mindspore"
  },
  "language_info": {
   "codemirror_mode": {
    "name": "ipython",
    "version": 3
   },
   "file_extension": ".py",
   "mimetype": "text/x-python",
   "name": "python",
   "nbconvert_exporter": "python",
   "pygments_lexer": "ipython3",
   "version": "3.7.5"
  }
 },
 "nbformat": 4,
 "nbformat_minor": 4
}
