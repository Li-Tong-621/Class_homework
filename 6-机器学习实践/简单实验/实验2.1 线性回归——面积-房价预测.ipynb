{
 "cells": [
  {
   "cell_type": "code",
   "execution_count": 1,
   "metadata": {},
   "outputs": [],
   "source": [
    "import mindspore.numpy as np\n",
    "import mindspore"
   ]
  },
  {
   "cell_type": "code",
   "execution_count": 2,
   "metadata": {},
   "outputs": [],
   "source": [
    "#实验2.1 线性回归——面积-房价预测\n",
    "#输入对应大小，x表示为房屋面积、y为房价\n",
    "x=np.array([56,72,69,88,102,86,76,79,94,74]).asnumpy()\n",
    "y=np.array([92,102,86,110,130,99,96,102,105,92]).asnumpy()"
   ]
  },
  {
   "cell_type": "code",
   "execution_count": 3,
   "metadata": {},
   "outputs": [
    {
     "data": {
      "text/plain": [
       "Text(0, 0.5, 'Price')"
      ]
     },
     "execution_count": 3,
     "metadata": {},
     "output_type": "execute_result"
    },
    {
     "data": {
      "image/png": "[encoded data removed]",
      "text/plain": [
       "<Figure size 432x288 with 1 Axes>"
      ]
     },
     "metadata": {
      "needs_background": "light"
     },
     "output_type": "display_data"
    }
   ],
   "source": [
    "import numpy as np\n",
    "from matplotlib import pyplot as plt\n",
    "#绘制图像\n",
    "plt.scatter(x,y)\n",
    "plt.xlabel('Area')#面积\n",
    "plt.ylabel('Price')#房价"
   ]
  },
  {
   "cell_type": "code",
   "execution_count": 4,
   "metadata": {},
   "outputs": [],
   "source": [
    "#一元回归\n",
    "def f(x,w0,w1):\n",
    "    y=w0+w1*x\n",
    "    return y"
   ]
  },
  {
   "cell_type": "code",
   "execution_count": 5,
   "metadata": {},
   "outputs": [],
   "source": [
    "#平方损失函数\n",
    "def square_loss(x,y,w0,w1):\n",
    "    loss=sum(np.square(y-(w0+w1*x)))\n",
    "    return loss"
   ]
  },
  {
   "cell_type": "code",
   "execution_count": 6,
   "metadata": {},
   "outputs": [],
   "source": [
    "#w的计算方式\n",
    "def w_calculator(x,y):\n",
    "    n=len(x)\n",
    "    w1 = (n * sum(x * y) - sum(x) * sum(y)) / (n * sum(x * x) - sum(x) * sum(x))\n",
    "    w0 = (sum(x * x) * sum(y) - sum(x) * sum(x * y)) / (n * sum(x * x) - sum(x) * sum(x))\n",
    "\n",
    "    return w0,w1"
   ]
  },
  {
   "cell_type": "code",
   "execution_count": 7,
   "metadata": {},
   "outputs": [
    {
     "data": {
      "text/plain": [
       "(41.33509168550616, 0.7545842753077117)"
      ]
     },
     "execution_count": 7,
     "metadata": {},
     "output_type": "execute_result"
    }
   ],
   "source": [
    "w_calculator(x,y)\n"
   ]
  },
  {
   "cell_type": "code",
   "execution_count": 8,
   "metadata": {},
   "outputs": [
    {
     "data": {
      "text/plain": [
       "447.69153479025357"
      ]
     },
     "execution_count": 8,
     "metadata": {},
     "output_type": "execute_result"
    }
   ],
   "source": [
    "#第一种方法 最小二乘代数解\n",
    "w0,w1=w_calculator(x,y)\n",
    "square_loss(x,y,w0,w1)"
   ]
  },
  {
   "cell_type": "code",
   "execution_count": 9,
   "metadata": {},
   "outputs": [
    {
     "data": {
      "text/plain": [
       "154.5227329816629"
      ]
     },
     "execution_count": 9,
     "metadata": {},
     "output_type": "execute_result"
    },
    {
     "data": {
      "image/png": "[encoded data removed]",
      "text/plain": [
       "<Figure size 432x288 with 1 Axes>"
      ]
     },
     "metadata": {
      "needs_background": "light"
     },
     "output_type": "display_data"
    }
   ],
   "source": [
    "\n",
    "x_temp=np.linspace(50,120,100)\n",
    "plt.scatter(x,y)\n",
    "plt.plot(x_temp,x_temp*w1+w0,'r')\n",
    "f(150,w0,w1)\n"
   ]
  },
  {
   "cell_type": "code",
   "execution_count": 10,
   "metadata": {},
   "outputs": [
    {
     "name": "stdout",
     "output_type": "stream",
     "text": [
      "41.33509168550615 [0.75458428]\n"
     ]
    }
   ],
   "source": [
    "#第二种方法：sklearn 线性回归实现\n",
    "from sklearn.linear_model import LinearRegression\n",
    "model=LinearRegression()\n",
    "model.fit(x.reshape(len(x),1),y)\n",
    "print(model.intercept_,model.coef_)\n"
   ]
  },
  {
   "cell_type": "code",
   "execution_count": 11,
   "metadata": {},
   "outputs": [
    {
     "data": {
      "text/plain": [
       "154.5227329816629"
      ]
     },
     "execution_count": 11,
     "metadata": {},
     "output_type": "execute_result"
    },
    {
     "data": {
      "image/png": "[encoded data removed]",
      "text/plain": [
       "<Figure size 432x288 with 1 Axes>"
      ]
     },
     "metadata": {
      "needs_background": "light"
     },
     "output_type": "display_data"
    }
   ],
   "source": [
    "x_temp=mindspore.numpy.linspace(50,120,100).asnumpy()\n",
    "x=mindspore.numpy.array([56,72,69,88,102,86,76,79,94,74]).asnumpy()\n",
    "y=mindspore.numpy.array([92,102,86,110,130,99,96,102,105,92]).asnumpy()\n",
    "plt.scatter(x,y)\n",
    "plt.plot(x_temp,x_temp*model.coef_+model.intercept_,'r')\n",
    "f(150,w0,w1)"
   ]
  },
  {
   "cell_type": "code",
   "execution_count": 12,
   "metadata": {},
   "outputs": [],
   "source": [
    "#第三种方法 最小二乘矩阵实现\n",
    "def w_matrix(x,y):\n",
    "    w=(x.T*x).I*x.T*y\n",
    "    return w"
   ]
  },
  {
   "cell_type": "code",
   "execution_count": 13,
   "metadata": {},
   "outputs": [
    {
     "name": "stdout",
     "output_type": "stream",
     "text": [
      "[[43.5845265 ]\n",
      " [ 0.72632504]]\n"
     ]
    }
   ],
   "source": [
    "#计算w\n",
    "x=np.matrix([[1,56],[1,72],[1,69],[1,88],[1,102],\n",
    "             [1,86],[1,76],[1,94],[1,79],[1,74]])\n",
    "y=np.matrix([92,102,86,110,130,99,96,102,105,92])\n",
    "w=w_matrix(x,y.reshape(10,1))\n",
    "print(w)"
   ]
  },
  {
   "cell_type": "code",
   "execution_count": 15,
   "metadata": {},
   "outputs": [
    {
     "data": {
      "text/plain": [
       "154.5227329816629"
      ]
     },
     "execution_count": 15,
     "metadata": {},
     "output_type": "execute_result"
    },
    {
     "data": {
      "image/png": "[encoded data removed]",
      "text/plain": [
       "<Figure size 432x288 with 1 Axes>"
      ]
     },
     "metadata": {
      "needs_background": "light"
     },
     "output_type": "display_data"
    }
   ],
   "source": [
    "x_temp=mindspore.numpy.linspace(50,120,100).asnumpy()\n",
    "x=mindspore.numpy.array([56,72,69,88,102,86,76,79,94,74]).asnumpy()\n",
    "y=mindspore.numpy.array([92,102,86,110,130,99,96,102,105,92]).asnumpy()\n",
    "plt.scatter(x,y)\n",
    "plt.plot(x_temp,x_temp*0.72632504+43.5845265 ,'r')\n",
    "f(150,w0,w1)"
   ]
  },
  {
   "cell_type": "code",
   "execution_count": null,
   "metadata": {},
   "outputs": [],
   "source": [
    "#试验结束"
   ]
  },
  {
   "cell_type": "code",
   "execution_count": null,
   "metadata": {},
   "outputs": [],
   "source": []
  }
 ],
 "metadata": {
  "kernelspec": {
   "display_name": "mindspore",
   "language": "python",
   "name": "mindspore"
  },
  "language_info": {
   "codemirror_mode": {
    "name": "ipython",
    "version": 3
   },
   "file_extension": ".py",
   "mimetype": "text/x-python",
   "name": "python",
   "nbconvert_exporter": "python",
   "pygments_lexer": "ipython3",
   "version": "3.7.5"
  }
 },
 "nbformat": 4,
 "nbformat_minor": 4
}
