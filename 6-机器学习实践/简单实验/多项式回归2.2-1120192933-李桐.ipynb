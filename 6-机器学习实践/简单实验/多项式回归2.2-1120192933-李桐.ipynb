{
 "cells": [
  {
   "cell_type": "code",
   "execution_count": null,
   "metadata": {},
   "outputs": [],
   "source": [
    "#实验2.4 预测相应年份的麻疹疫苗接种率\n",
    "#采用函数和类两个方法实现"
   ]
  },
  {
   "cell_type": "code",
   "execution_count": 1,
   "metadata": {},
   "outputs": [
    {
     "data": {
      "text/html": [
       "<div>\n",
       "<style scoped>\n",
       "    .dataframe tbody tr th:only-of-type {\n",
       "        vertical-align: middle;\n",
       "    }\n",
       "\n",
       "    .dataframe tbody tr th {\n",
       "        vertical-align: top;\n",
       "    }\n",
       "\n",
       "    .dataframe thead th {\n",
       "        text-align: right;\n",
       "    }\n",
       "</style>\n",
       "<table border=\"1\" class=\"dataframe\">\n",
       "  <thead>\n",
       "    <tr style=\"text-align: right;\">\n",
       "      <th></th>\n",
       "      <th>Year</th>\n",
       "      <th>Values</th>\n",
       "    </tr>\n",
       "  </thead>\n",
       "  <tbody>\n",
       "    <tr>\n",
       "      <th>0</th>\n",
       "      <td>1983</td>\n",
       "      <td>48.676809</td>\n",
       "    </tr>\n",
       "    <tr>\n",
       "      <th>1</th>\n",
       "      <td>1984</td>\n",
       "      <td>50.653151</td>\n",
       "    </tr>\n",
       "    <tr>\n",
       "      <th>2</th>\n",
       "      <td>1985</td>\n",
       "      <td>45.603729</td>\n",
       "    </tr>\n",
       "    <tr>\n",
       "      <th>3</th>\n",
       "      <td>1986</td>\n",
       "      <td>45.511160</td>\n",
       "    </tr>\n",
       "    <tr>\n",
       "      <th>4</th>\n",
       "      <td>1987</td>\n",
       "      <td>52.882892</td>\n",
       "    </tr>\n",
       "  </tbody>\n",
       "</table>\n",
       "</div>"
      ],
      "text/plain": [
       "   Year     Values\n",
       "0  1983  48.676809\n",
       "1  1984  50.653151\n",
       "2  1985  45.603729\n",
       "3  1986  45.511160\n",
       "4  1987  52.882892"
      ]
     },
     "execution_count": 1,
     "metadata": {},
     "output_type": "execute_result"
    }
   ],
   "source": [
    "#第一个方法，函数方法————————————————————————————————————————————————————\n",
    "import pandas as pd\n",
    "import mindspore as ds\n",
    "import matplotlib.pyplot as plt\n",
    "import numpy\n",
    "df=pd.read_csv('course-6-vaccine.csv')\n",
    "df.head()"
   ]
  },
  {
   "cell_type": "code",
   "execution_count": 2,
   "metadata": {},
   "outputs": [
    {
     "data": {
      "text/plain": [
       "<matplotlib.collections.PathCollection at 0x1617193b0c8>"
      ]
     },
     "execution_count": 2,
     "metadata": {},
     "output_type": "execute_result"
    },
    {
     "data": {
      "image/png": "[encoded data removed]",
      "text/plain": [
       "<Figure size 432x288 with 1 Axes>"
      ]
     },
     "metadata": {
      "needs_background": "light"
     },
     "output_type": "display_data"
    }
   ],
   "source": [
    "x=df['Year']\n",
    "y=df['Values']\n",
    "x_new=[]\n",
    "y_new=[]\n",
    "for i in x:\n",
    "    x_new.append(i)\n",
    "x=ds.numpy.array(x_new).asnumpy()\n",
    "for i in y:\n",
    "    y_new.append(i)\n",
    "y=ds.numpy.array(y_new).asnumpy()\n",
    "plt.plot(x,y,'r')\n",
    "plt.scatter(x,y)"
   ]
  },
  {
   "cell_type": "code",
   "execution_count": 3,
   "metadata": {},
   "outputs": [],
   "source": [
    "#划分数据集\n",
    "train_df=df[:int(len(df)*0.7)]\n",
    "test_df=df[int(len(df)*0.7):]\n",
    "X_train =train_df['Year'].values\n",
    "y_train=train_df['Values'].values\n",
    "X_test=test_df['Year'].values\n",
    "y_test=test_df['Values'].values"
   ]
  },
  {
   "cell_type": "code",
   "execution_count": 4,
   "metadata": {},
   "outputs": [
    {
     "data": {
      "text/plain": [
       "array([[81.83437635],\n",
       "       [83.09935437],\n",
       "       [84.36433239],\n",
       "       [85.62931041],\n",
       "       [86.89428843],\n",
       "       [88.15926645],\n",
       "       [89.42424447],\n",
       "       [90.68922249],\n",
       "       [91.95420051],\n",
       "       [93.21917853],\n",
       "       [94.48415655]])"
      ]
     },
     "execution_count": 4,
     "metadata": {},
     "output_type": "execute_result"
    }
   ],
   "source": [
    "#线性回归预测\n",
    "from sklearn.linear_model import LinearRegression\n",
    "model=LinearRegression()\n",
    "model.fit(X_train.reshape(len(X_train),1),y_train.reshape(len(y_train),1))\n",
    "results=model.predict(X_test.reshape(len(X_test),1))\n",
    "results"
   ]
  },
  {
   "cell_type": "code",
   "execution_count": 5,
   "metadata": {},
   "outputs": [
    {
     "name": "stdout",
     "output_type": "stream",
     "text": [
      "线性回归平均绝对误差 6.011979515629812\n",
      "线性回归均方误差 43.531858295153434\n"
     ]
    }
   ],
   "source": [
    "#计算平均绝对误差和均方误差\n",
    "from sklearn.metrics import mean_absolute_error\n",
    "from sklearn.metrics import mean_squared_error\n",
    "print('线性回归平均绝对误差',mean_absolute_error(y_test,results.flatten()))\n",
    "print('线性回归均方误差',mean_squared_error(y_test,results.flatten()))\n"
   ]
  },
  {
   "cell_type": "code",
   "execution_count": 6,
   "metadata": {},
   "outputs": [],
   "source": [
    "#利用二次多项式线性回归进行预测\n",
    "from sklearn.preprocessing import PolynomialFeatures\n",
    "#计算二次多项式特征矩阵\n",
    "poly_features_2=PolynomialFeatures(degree=2,include_bias=False)\n",
    "poly_X_train_2=poly_features_2.fit_transform(X_train.reshape(len(X_train),1))\n",
    "poly_X_test_2=poly_features_2.fit_transform(X_test.reshape(len(X_test),1))"
   ]
  },
  {
   "cell_type": "code",
   "execution_count": 7,
   "metadata": {},
   "outputs": [
    {
     "data": {
      "text/plain": [
       "array([71.98010746, 70.78151826, 69.38584368, 67.79308372, 66.00323838,\n",
       "       64.01630767, 61.83229158, 59.45119011, 56.87300326, 54.09773104,\n",
       "       51.12537344])"
      ]
     },
     "execution_count": 7,
     "metadata": {},
     "output_type": "execute_result"
    }
   ],
   "source": [
    "model=LinearRegression()\n",
    "model.fit(poly_X_train_2,y_train.reshape(len(X_train),1))\n",
    "results_2=model.predict(poly_X_test_2)\n",
    "results_2.flatten()"
   ]
  },
  {
   "cell_type": "code",
   "execution_count": 8,
   "metadata": {},
   "outputs": [
    {
     "name": "stdout",
     "output_type": "stream",
     "text": [
      "二次多项式线性回归平均绝对误差 19.792070829567653\n",
      "二次多项式线性回归均方误差 464.3290384751541\n"
     ]
    }
   ],
   "source": [
    "#计算二次多项式线性回归平均绝对误差和均方误差\n",
    "\n",
    "print('二次多项式线性回归平均绝对误差',mean_absolute_error(y_test,results_2.flatten()))\n",
    "print('二次多项式线性回归均方误差',mean_squared_error(y_test,results_2.flatten()))\n"
   ]
  },
  {
   "cell_type": "code",
   "execution_count": 9,
   "metadata": {},
   "outputs": [],
   "source": [
    "#3、4、5次回归的误差\n",
    "from sklearn.pipeline import make_pipeline\n",
    "X_train=X_train.reshape(len(X_train),1)\n",
    "X_test=X_test.reshape(len(X_test),1)\n",
    "y_train=y_train.reshape(len(y_train),1)"
   ]
  },
  {
   "cell_type": "code",
   "execution_count": 10,
   "metadata": {},
   "outputs": [
    {
     "name": "stdout",
     "output_type": "stream",
     "text": [
      "3次多项式线性回归平均绝对误差 4.547691928062872\n",
      "3次多项式线性回归均方误差 29.93305654903162\n",
      "4次多项式线性回归平均绝对误差 4.424336229004736\n",
      "4次多项式线性回归均方误差 29.0287490291125\n",
      "5次多项式线性回归平均绝对误差 4.341616357696082\n",
      "5次多项式线性回归均方误差 28.221927572277085\n"
     ]
    }
   ],
   "source": [
    "for m in [3,4,5]:\n",
    "    model=make_pipeline(PolynomialFeatures(m,include_bias=False),LinearRegression())\n",
    "    model.fit(X_train,y_train)\n",
    "\n",
    "    pre_y=model.predict(X_test)\n",
    "    print('{}次多项式线性回归平均绝对误差'.format(m), mean_absolute_error(y_test, pre_y.flatten()))\n",
    "    print('{}次多项式线性回归均方误差'.format(m), mean_squared_error(y_test, pre_y.flatten()))\n"
   ]
  },
  {
   "cell_type": "code",
   "execution_count": 11,
   "metadata": {},
   "outputs": [
    {
     "data": {
      "text/plain": [
       "Text(0, 0.5, 'MSE')"
      ]
     },
     "execution_count": 11,
     "metadata": {},
     "output_type": "execute_result"
    },
    {
     "data": {
      "image/png": "[encoded data removed]",
      "text/plain": [
       "<Figure size 432x288 with 1 Axes>"
      ]
     },
     "metadata": {
      "needs_background": "light"
     },
     "output_type": "display_data"
    }
   ],
   "source": [
    "#绘制均方误差随多项式次数的增加的变化曲线\n",
    "mse=[]\n",
    "m=1\n",
    "m_max=10\n",
    "while m<=m_max:\n",
    "    model=make_pipeline(PolynomialFeatures(m,include_bias=False),LinearRegression())\n",
    "    model.fit(X_train, y_train)\n",
    "\n",
    "    pre_y = model.predict(X_test)\n",
    "    mse.append(mean_squared_error(y_test, pre_y.flatten()))\n",
    "    m=m+1\n",
    "\n",
    "plt.plot([i for i in range(1,m_max+1)],mse,'r')\n",
    "plt.scatter([i for i in range(1,m_max+1)],mse)\n",
    "plt.title(\"MSE od m degree of polynomal regression\")\n",
    "plt.xlabel('m')\n",
    "plt.ylabel('MSE')"
   ]
  },
  {
   "cell_type": "code",
   "execution_count": null,
   "metadata": {},
   "outputs": [],
   "source": []
  },
  {
   "cell_type": "code",
   "execution_count": null,
   "metadata": {},
   "outputs": [],
   "source": []
  },
  {
   "cell_type": "code",
   "execution_count": null,
   "metadata": {},
   "outputs": [],
   "source": [
    "#第二个方法，类方法————————————————————————————————————————————————————"
   ]
  },
  {
   "cell_type": "code",
   "execution_count": 12,
   "metadata": {},
   "outputs": [],
   "source": [
    "import pandas as pd\n",
    "from sklearn.linear_model import LinearRegression\n",
    "from sklearn.metrics import mean_absolute_error\n",
    "from sklearn.metrics import mean_squared_error\n",
    "from sklearn.preprocessing import PolynomialFeatures\n",
    "from sklearn.pipeline import make_pipeline\n",
    "import numpy"
   ]
  },
  {
   "cell_type": "code",
   "execution_count": 13,
   "metadata": {},
   "outputs": [],
   "source": [
    "class vaccine():\n",
    "    def __init__(self,path):\n",
    "        self.df=pd.read_csv(path)\n",
    "        self.df.describe()\n",
    "        self.x=self.df['Year']\n",
    "        self.y=self.df['Values']\n",
    "        \n",
    "    def split(self,split_num):\n",
    "        \"\"\"\n",
    "        划分数据集\n",
    "        \"\"\"\n",
    "        split_num=int(len(self.x)*split_num)\n",
    "        \n",
    "        self.X_train=self.x[:split_num]\n",
    "        self.y_train=self.y[:split_num]\n",
    "\n",
    "        self.X_test=self.x[split_num:]\n",
    "        self.y_test=self.y[split_num:]x     \n",
    "        \n",
    "    def pred(self,m):\n",
    "        \"\"\"\n",
    "        预测\n",
    "        \"\"\"\n",
    "        model=make_pipeline(PolynomialFeatures(m,include_bias=False),LinearRegression())\n",
    "        model.fit(numpy.array(self.X_train).reshape(-1,1), self.y_train)\n",
    "\n",
    "        self.pre_y = model.predict(numpy.array(self.X_test).reshape(-1,1))\n",
    "\n",
    "        return self.pre_y\n",
    "    \n",
    "    def mae_value(self):\n",
    "        \"\"\"\n",
    "        平均绝对误差函数\n",
    "        \"\"\"\n",
    "        return mean_absolute_error(self.y_test, self.pre_y.flatten())\n",
    "    \n",
    "    def mse_value(self):\n",
    "        \"\"\"\n",
    "        均分误差函数\n",
    "        \"\"\"\n",
    "        return mean_squared_error(self.y_test, self.pre_y.flatten())\n",
    "    "
   ]
  },
  {
   "cell_type": "code",
   "execution_count": 14,
   "metadata": {},
   "outputs": [
    {
     "name": "stdout",
     "output_type": "stream",
     "text": [
      "[74.89447365 75.15306775 75.50601316 75.97572803 76.58463063 77.35513911\n",
      " 78.30967173 79.47064666 80.86048211 82.50159629 84.41640741]\n",
      "4.547691928062872\n",
      "29.93305654903162\n"
     ]
    }
   ],
   "source": [
    "vaccine_class=vaccine('course-6-vaccine.csv')\n",
    "vaccine_class.split(0.7)\n",
    "y=vaccine_class.pred(3)\n",
    "print(y)\n",
    "print(vaccine_class.mae_value())\n",
    "print(vaccine_class.mse_value())"
   ]
  },
  {
   "cell_type": "code",
   "execution_count": null,
   "metadata": {},
   "outputs": [],
   "source": []
  }
 ],
 "metadata": {
  "kernelspec": {
   "display_name": "mindspore",
   "language": "python",
   "name": "mindspore"
  },
  "language_info": {
   "codemirror_mode": {
    "name": "ipython",
    "version": 3
   },
   "file_extension": ".py",
   "mimetype": "text/x-python",
   "name": "python",
   "nbconvert_exporter": "python",
   "pygments_lexer": "ipython3",
   "version": "3.7.5"
  }
 },
 "nbformat": 4,
 "nbformat_minor": 4
}
