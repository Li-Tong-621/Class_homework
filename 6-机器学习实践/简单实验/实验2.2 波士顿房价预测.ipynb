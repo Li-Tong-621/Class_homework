{
 "cells": [
  {
   "cell_type": "code",
   "execution_count": 1,
   "metadata": {},
   "outputs": [],
   "source": [
    "import mindspore.dataset as ds\n",
    "import pandas as pd\n",
    "#实验2.2 波士顿房价预测\n",
    "#前面是函数形式\n",
    "#后面是类形式"
   ]
  },
  {
   "cell_type": "code",
   "execution_count": null,
   "metadata": {},
   "outputs": [],
   "source": [
    "#function——————————————————————————————————————————————————"
   ]
  },
  {
   "cell_type": "code",
   "execution_count": 2,
   "metadata": {},
   "outputs": [
    {
     "data": {
      "text/html": [
       "<div>\n",
       "<style scoped>\n",
       "    .dataframe tbody tr th:only-of-type {\n",
       "        vertical-align: middle;\n",
       "    }\n",
       "\n",
       "    .dataframe tbody tr th {\n",
       "        vertical-align: top;\n",
       "    }\n",
       "\n",
       "    .dataframe thead th {\n",
       "        text-align: right;\n",
       "    }\n",
       "</style>\n",
       "<table border=\"1\" class=\"dataframe\">\n",
       "  <thead>\n",
       "    <tr style=\"text-align: right;\">\n",
       "      <th></th>\n",
       "      <th>CRIM</th>\n",
       "      <th>ZN</th>\n",
       "      <th>INDUS</th>\n",
       "      <th>CHAS</th>\n",
       "      <th>NOX</th>\n",
       "      <th>RM</th>\n",
       "      <th>AGE</th>\n",
       "      <th>DIS</th>\n",
       "      <th>RAD</th>\n",
       "      <th>TAX</th>\n",
       "      <th>PTRATIO</th>\n",
       "      <th>B</th>\n",
       "      <th>LSTAT</th>\n",
       "      <th>MEDV</th>\n",
       "    </tr>\n",
       "  </thead>\n",
       "  <tbody>\n",
       "    <tr>\n",
       "      <th>0</th>\n",
       "      <td>0.00632</td>\n",
       "      <td>18.0</td>\n",
       "      <td>2.31</td>\n",
       "      <td>0</td>\n",
       "      <td>0.538</td>\n",
       "      <td>6.575</td>\n",
       "      <td>65.2</td>\n",
       "      <td>4.0900</td>\n",
       "      <td>1</td>\n",
       "      <td>296</td>\n",
       "      <td>15.3</td>\n",
       "      <td>396.90</td>\n",
       "      <td>4.98</td>\n",
       "      <td>24.0</td>\n",
       "    </tr>\n",
       "    <tr>\n",
       "      <th>1</th>\n",
       "      <td>0.02731</td>\n",
       "      <td>0.0</td>\n",
       "      <td>7.07</td>\n",
       "      <td>0</td>\n",
       "      <td>0.469</td>\n",
       "      <td>6.421</td>\n",
       "      <td>78.9</td>\n",
       "      <td>4.9671</td>\n",
       "      <td>2</td>\n",
       "      <td>242</td>\n",
       "      <td>17.8</td>\n",
       "      <td>396.90</td>\n",
       "      <td>9.14</td>\n",
       "      <td>21.6</td>\n",
       "    </tr>\n",
       "    <tr>\n",
       "      <th>2</th>\n",
       "      <td>0.02729</td>\n",
       "      <td>0.0</td>\n",
       "      <td>7.07</td>\n",
       "      <td>0</td>\n",
       "      <td>0.469</td>\n",
       "      <td>7.185</td>\n",
       "      <td>61.1</td>\n",
       "      <td>4.9671</td>\n",
       "      <td>2</td>\n",
       "      <td>242</td>\n",
       "      <td>17.8</td>\n",
       "      <td>392.83</td>\n",
       "      <td>4.03</td>\n",
       "      <td>34.7</td>\n",
       "    </tr>\n",
       "    <tr>\n",
       "      <th>3</th>\n",
       "      <td>0.03237</td>\n",
       "      <td>0.0</td>\n",
       "      <td>2.18</td>\n",
       "      <td>0</td>\n",
       "      <td>0.458</td>\n",
       "      <td>6.998</td>\n",
       "      <td>45.8</td>\n",
       "      <td>6.0622</td>\n",
       "      <td>3</td>\n",
       "      <td>222</td>\n",
       "      <td>18.7</td>\n",
       "      <td>394.63</td>\n",
       "      <td>2.94</td>\n",
       "      <td>33.4</td>\n",
       "    </tr>\n",
       "    <tr>\n",
       "      <th>4</th>\n",
       "      <td>0.06905</td>\n",
       "      <td>0.0</td>\n",
       "      <td>2.18</td>\n",
       "      <td>0</td>\n",
       "      <td>0.458</td>\n",
       "      <td>7.147</td>\n",
       "      <td>54.2</td>\n",
       "      <td>6.0622</td>\n",
       "      <td>3</td>\n",
       "      <td>222</td>\n",
       "      <td>18.7</td>\n",
       "      <td>396.90</td>\n",
       "      <td>5.33</td>\n",
       "      <td>36.2</td>\n",
       "    </tr>\n",
       "  </tbody>\n",
       "</table>\n",
       "</div>"
      ],
      "text/plain": [
       "      CRIM    ZN  INDUS  CHAS    NOX     RM   AGE     DIS  RAD  TAX  PTRATIO  \\\n",
       "0  0.00632  18.0   2.31     0  0.538  6.575  65.2  4.0900    1  296     15.3   \n",
       "1  0.02731   0.0   7.07     0  0.469  6.421  78.9  4.9671    2  242     17.8   \n",
       "2  0.02729   0.0   7.07     0  0.469  7.185  61.1  4.9671    2  242     17.8   \n",
       "3  0.03237   0.0   2.18     0  0.458  6.998  45.8  6.0622    3  222     18.7   \n",
       "4  0.06905   0.0   2.18     0  0.458  7.147  54.2  6.0622    3  222     18.7   \n",
       "\n",
       "        B  LSTAT  MEDV  \n",
       "0  396.90   4.98  24.0  \n",
       "1  396.90   9.14  21.6  \n",
       "2  392.83   4.03  34.7  \n",
       "3  394.63   2.94  33.4  \n",
       "4  396.90   5.33  36.2  "
      ]
     },
     "execution_count": 2,
     "metadata": {},
     "output_type": "execute_result"
    }
   ],
   "source": [
    "#数据读取\n",
    "df=pd.read_csv('D:/Pycode_2/ML-dataset/boston_house_prices.csv')\n",
    "df.head()"
   ]
  },
  {
   "cell_type": "code",
   "execution_count": 3,
   "metadata": {},
   "outputs": [],
   "source": [
    "features=df[['CRIM','RM','LSTAT']]\n",
    "features.describe()\n",
    "target=df['MEDV']\n",
    "split_num=int(len(features)*0.7)"
   ]
  },
  {
   "cell_type": "code",
   "execution_count": 4,
   "metadata": {},
   "outputs": [],
   "source": [
    "#构建数据集\n",
    "X_train=features[:split_num]\n",
    "y_train=target[:split_num]\n",
    "\n",
    "X_test=features[split_num:]\n",
    "y_test=target[split_num:]"
   ]
  },
  {
   "cell_type": "code",
   "execution_count": 5,
   "metadata": {},
   "outputs": [
    {
     "data": {
      "text/plain": [
       "array([17.77439141, 21.09512448, 27.63412265, 26.78577951, 25.38313368,\n",
       "       24.3286313 , 28.4257879 , 25.12834727, 16.82806601, 20.76498858,\n",
       "       52.3350748 , -0.18169806, 12.01475786,  7.87878077, 15.13155699,\n",
       "       32.93748235, 37.07872049, 29.50613719, 25.50800832, 12.35867972,\n",
       "        9.08901644, 47.08374238, 35.31759193, 33.3738765 , 38.34913316,\n",
       "       33.10414639, 91.3556125 , 35.11735022, 19.69326952, 18.49805269,\n",
       "       14.03767555, 20.9235166 , 20.41406182, 21.92218226, 15.20451678,\n",
       "       18.05362998, 21.26289453, 23.18192502, 15.87149504, 27.70381826,\n",
       "       27.65958772, 30.17151829, 27.04987446, 21.52730227, 37.82614512,\n",
       "       22.09872387, 34.71166346, 32.07959454, 29.45253042, 29.51137956,\n",
       "       41.49935191, 62.4121152 , 13.64508882, 24.71242033, 18.69151684,\n",
       "       37.4909413 , 54.05864658, 34.94758034, 15.01355249, 30.17849355,\n",
       "       32.22191275, 33.90252834, 33.02530285, 28.4416789 , 69.60201087,\n",
       "       34.7617152 , 31.65353442, 24.5644437 , 24.78130285, 24.00864792,\n",
       "       21.03315696, 27.84982052, 26.50972924, 48.2345499 , 25.50590175,\n",
       "       28.25547265, 28.66087656, 34.2545407 , 29.15996676, 27.8072316 ,\n",
       "       31.54282066, 32.22024557, 33.8708737 , 29.54354233, 24.7407235 ,\n",
       "       20.90593331, 31.85967562, 29.72491232, 25.59151894, 30.83279914,\n",
       "       25.40734645, 30.00948474, 27.01673798, 28.92672135, 27.49385728,\n",
       "       28.34125465, 31.52461119, 29.61897187, 25.83925513, 39.26663855,\n",
       "       33.00756176, 27.73720999, 21.93359421, 24.42469533, 27.95623349,\n",
       "       25.37499479, 29.91401113, 26.20027081, 27.81044317, 29.97326914,\n",
       "       27.7027324 , 19.68280094, 21.44673441, 21.56041782, 29.24007222,\n",
       "       26.02322353, 24.20402765, 25.31745183, 26.79101418, 33.60357546,\n",
       "       18.91793831, 23.98036109, 27.29202266, 21.15709214, 28.14694161,\n",
       "       32.47276562, 27.13611459, 32.81994315, 36.13809753, 20.23338607,\n",
       "       20.43084078, 26.37366467, 24.87561302, 22.88298598, 13.67619651,\n",
       "       12.08004137,  7.6709438 , 19.00432321, 19.97736929, 17.49844989,\n",
       "       19.46809982, 15.97963066, 12.49219926, 18.01764782, 20.51997661,\n",
       "       15.46843536, 20.30123637, 26.88163963, 22.19647509, 31.58974789,\n",
       "       29.60675772, 21.5321567 ])"
      ]
     },
     "execution_count": 5,
     "metadata": {},
     "output_type": "execute_result"
    }
   ],
   "source": [
    "from sklearn.linear_model import LinearRegression\n",
    "\n",
    "model=LinearRegression()\n",
    "model.fit(X_train,y_train)\n",
    "model.coef_,model.intercept_\n",
    "\n",
    "preds=model.predict(X_test)\n",
    "preds"
   ]
  },
  {
   "cell_type": "code",
   "execution_count": 6,
   "metadata": {},
   "outputs": [],
   "source": [
    "#评价指标\n",
    "import mindspore.numpy as np\n",
    "#平均绝对误差函数\n",
    "def mae_value(y_true,y_pred):\n",
    "    n=len(y_true)\n",
    "    mae=sum(np.abs(y_true-y_pred))/n\n",
    "    return mae\n"
   ]
  },
  {
   "cell_type": "code",
   "execution_count": 7,
   "metadata": {},
   "outputs": [],
   "source": [
    "#均分误差函数\n",
    "def mse_value(y_true,y_pred):\n",
    "    n = len(y_true)\n",
    "    mae = sum(np.square(y_true - y_pred)) / n\n",
    "    return mae"
   ]
  },
  {
   "cell_type": "code",
   "execution_count": null,
   "metadata": {},
   "outputs": [],
   "source": []
  },
  {
   "cell_type": "code",
   "execution_count": 8,
   "metadata": {},
   "outputs": [],
   "source": [
    "y_test_new = [];\n",
    "for n in y_test:\n",
    "      y_test_new.append(int(n));"
   ]
  },
  {
   "cell_type": "code",
   "execution_count": 9,
   "metadata": {},
   "outputs": [],
   "source": [
    "import mindspore as ds"
   ]
  },
  {
   "cell_type": "code",
   "execution_count": 10,
   "metadata": {},
   "outputs": [
    {
     "name": "stdout",
     "output_type": "stream",
     "text": [
      "13.36169714400052\n"
     ]
    }
   ],
   "source": [
    "print( mae_value(np.array(y_test_new),ds.Tensor(preds)))"
   ]
  },
  {
   "cell_type": "code",
   "execution_count": 11,
   "metadata": {},
   "outputs": [
    {
     "name": "stdout",
     "output_type": "stream",
     "text": [
      "314.5787477078485\n"
     ]
    }
   ],
   "source": [
    "print( mse_value(np.array(y_test_new),ds.Tensor(preds)))"
   ]
  },
  {
   "cell_type": "code",
   "execution_count": null,
   "metadata": {},
   "outputs": [],
   "source": []
  },
  {
   "cell_type": "code",
   "execution_count": null,
   "metadata": {},
   "outputs": [],
   "source": []
  },
  {
   "cell_type": "code",
   "execution_count": null,
   "metadata": {},
   "outputs": [],
   "source": [
    "#class——————————————————————————————————————————————————"
   ]
  },
  {
   "cell_type": "code",
   "execution_count": 12,
   "metadata": {},
   "outputs": [],
   "source": [
    "import pandas as pd\n",
    "#实验2.2 波士顿房价预测\n",
    "from sklearn.linear_model import LinearRegression\n",
    "import mindspore as ds\n",
    "import mindspore.numpy as np"
   ]
  },
  {
   "cell_type": "code",
   "execution_count": 13,
   "metadata": {},
   "outputs": [],
   "source": [
    "class Boston():\n",
    "    def __init__(self,path,fea=['CRIM','RM','LSTAT']):\n",
    "        self.df=pd.read_csv(path)\n",
    "        self.features=df[['CRIM','RM','LSTAT']]\n",
    "        self.features.describe()\n",
    "        self.target=df['MEDV']\n",
    "        \n",
    "    def split(self,split_num):\n",
    "        \"\"\"\n",
    "        划分数据集\n",
    "        \"\"\"\n",
    "        split_num=int(len(self.features)*split_num)\n",
    "        \n",
    "        self.X_train=self.features[:split_num]\n",
    "        self.y_train=self.target[:split_num]\n",
    "\n",
    "        self.X_test=self.features[split_num:]\n",
    "        self.y_test=self.target[split_num:]\n",
    "        \n",
    "    def pred(self):\n",
    "        \"\"\"\n",
    "        预测\n",
    "        \"\"\"\n",
    "        model=LinearRegression()\n",
    "        model.fit(self.X_train,self.y_train)\n",
    "        model.coef_,model.intercept_\n",
    "\n",
    "        preds=model.predict(self.X_test)\n",
    "        self.preds=ds.Tensor(preds)\n",
    "        return self.preds\n",
    "    \n",
    "    def array2tensor(self):\n",
    "        \"\"\"\n",
    "        test转成mindspore.tensor\n",
    "        \"\"\"\n",
    "        self.y_test_new = []\n",
    "        for n in self.y_test:\n",
    "              self.y_test_new.append(int(n))\n",
    "    \n",
    "    def mae_value(self):\n",
    "        \"\"\"\n",
    "        #平均绝对误差函数\n",
    "        \"\"\"\n",
    "        n=len(self.y_test)\n",
    "        mae=sum(np.abs(self.preds-self.y_test_new))/n\n",
    "        return mae\n",
    "    \n",
    "    def mse_value(self):\n",
    "        \"\"\"\n",
    "        #均分误差函数\n",
    "        \"\"\"\n",
    "        n = len(self.y_test)\n",
    "        mae = sum(np.square(self.preds - self.y_test_new)) / n\n",
    "        return mae\n",
    "    "
   ]
  },
  {
   "cell_type": "code",
   "execution_count": 14,
   "metadata": {},
   "outputs": [
    {
     "name": "stdout",
     "output_type": "stream",
     "text": [
      "[17.77439141 21.09512448 27.63412265 26.78577951 25.38313368 24.3286313\n",
      " 28.4257879  25.12834727 16.82806601 20.76498858 52.3350748  -0.18169806\n",
      " 12.01475786  7.87878077 15.13155699 32.93748235 37.07872049 29.50613719\n",
      " 25.50800832 12.35867972  9.08901644 47.08374238 35.31759193 33.3738765\n",
      " 38.34913316 33.10414639 91.3556125  35.11735022 19.69326952 18.49805269\n",
      " 14.03767555 20.9235166  20.41406182 21.92218226 15.20451678 18.05362998\n",
      " 21.26289453 23.18192502 15.87149504 27.70381826 27.65958772 30.17151829\n",
      " 27.04987446 21.52730227 37.82614512 22.09872387 34.71166346 32.07959454\n",
      " 29.45253042 29.51137956 41.49935191 62.4121152  13.64508882 24.71242033\n",
      " 18.69151684 37.4909413  54.05864658 34.94758034 15.01355249 30.17849355\n",
      " 32.22191275 33.90252834 33.02530285 28.4416789  69.60201087 34.7617152\n",
      " 31.65353442 24.5644437  24.78130285 24.00864792 21.03315696 27.84982052\n",
      " 26.50972924 48.2345499  25.50590175 28.25547265 28.66087656 34.2545407\n",
      " 29.15996676 27.8072316  31.54282066 32.22024557 33.8708737  29.54354233\n",
      " 24.7407235  20.90593331 31.85967562 29.72491232 25.59151894 30.83279914\n",
      " 25.40734645 30.00948474 27.01673798 28.92672135 27.49385728 28.34125465\n",
      " 31.52461119 29.61897187 25.83925513 39.26663855 33.00756176 27.73720999\n",
      " 21.93359421 24.42469533 27.95623349 25.37499479 29.91401113 26.20027081\n",
      " 27.81044317 29.97326914 27.7027324  19.68280094 21.44673441 21.56041782\n",
      " 29.24007222 26.02322353 24.20402765 25.31745183 26.79101418 33.60357546\n",
      " 18.91793831 23.98036109 27.29202266 21.15709214 28.14694161 32.47276562\n",
      " 27.13611459 32.81994315 36.13809753 20.23338607 20.43084078 26.37366467\n",
      " 24.87561302 22.88298598 13.67619651 12.08004137  7.6709438  19.00432321\n",
      " 19.97736929 17.49844989 19.46809982 15.97963066 12.49219926 18.01764782\n",
      " 20.51997661 15.46843536 20.30123637 26.88163963 22.19647509 31.58974789\n",
      " 29.60675772 21.5321567 ]\n"
     ]
    }
   ],
   "source": [
    "bs=Boston('D:/Pycode_2/ML-dataset/boston_house_prices.csv')\n",
    "bs.split(0.7)\n",
    "print(bs.pred())"
   ]
  },
  {
   "cell_type": "code",
   "execution_count": 15,
   "metadata": {},
   "outputs": [
    {
     "name": "stdout",
     "output_type": "stream",
     "text": [
      "13.36169714400052\n",
      "314.5787477078485\n"
     ]
    }
   ],
   "source": [
    "bs.array2tensor()\n",
    "print(bs.mae_value())\n",
    "print(bs.mse_value())"
   ]
  },
  {
   "cell_type": "code",
   "execution_count": null,
   "metadata": {},
   "outputs": [],
   "source": []
  }
 ],
 "metadata": {
  "kernelspec": {
   "display_name": "mindspore",
   "language": "python",
   "name": "mindspore"
  },
  "language_info": {
   "codemirror_mode": {
    "name": "ipython",
    "version": 3
   },
   "file_extension": ".py",
   "mimetype": "text/x-python",
   "name": "python",
   "nbconvert_exporter": "python",
   "pygments_lexer": "ipython3",
   "version": "3.7.5"
  }
 },
 "nbformat": 4,
 "nbformat_minor": 4
}
